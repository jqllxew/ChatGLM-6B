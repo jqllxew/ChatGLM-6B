{
  "nbformat": 4,
  "nbformat_minor": 0,
  "metadata": {
    "colab": {
      "provenance": [],
      "authorship_tag": "ABX9TyP8O/neqa4FO5JtJwzihLPm",
      "include_colab_link": true
    },
    "kernelspec": {
      "name": "python3",
      "display_name": "Python 3"
    },
    "language_info": {
      "name": "python"
    },
    "accelerator": "GPU",
    "gpuClass": "standard"
  },
  "cells": [
    {
      "cell_type": "markdown",
      "metadata": {
        "id": "view-in-github",
        "colab_type": "text"
      },
      "source": [
        "<a href=\"https://colab.research.google.com/github/jqllxew/ChatGLM-6B/blob/main/chat_glm.ipynb\" target=\"_parent\"><img src=\"https://colab.research.google.com/assets/colab-badge.svg\" alt=\"Open In Colab\"/></a>"
      ]
    },
    {
      "cell_type": "code",
      "source": [
        "from google.colab import drive\n",
        "drive.mount('/content/gdrive')\n",
        "import ipywidgets as widgets\n",
        "from IPython.utils import capture\n",
        "import os\n",
        "\n",
        "def inf(msg, style, wdth): inf = widgets.Button(description=msg, disabled=True, button_style=style, layout=widgets.Layout(min_width=wdth));display(inf)\n",
        "with capture.capture_output() as cap:\n",
        "  !pip install transformers==4.27.1 protobuf cpm_kernels gradio mdtex2html sentencepiece\n",
        "!mkdir -p /content/gdrive/MyDrive/cache/transformers\n",
        "os.environ['TRANSFORMERS_CACHE']=f\"/content/gdrive/MyDrive/cache/transformers\"\n",
        "!ln -s /content/gdrive/MyDrive/cache/ /root/.cache/\n",
        "inf('\\u2714 Done','success', '50px')"
      ],
      "metadata": {
        "id": "LYNCE-VKfe9D"
      },
      "execution_count": null,
      "outputs": []
    },
    {
      "cell_type": "code",
      "execution_count": null,
      "metadata": {
        "id": "GA6sCRXIeZlP"
      },
      "outputs": [],
      "source": [
        "from transformers import AutoModel, AutoTokenizer\n",
        "import gradio as gr\n",
        "import mdtex2html\n",
        "import time\n",
        "import torch\n",
        "\n",
        "tokenizer = AutoTokenizer.from_pretrained(\"THUDM/chatglm-6b-int4\", trust_remote_code=True)\n",
        "model = AutoModel.from_pretrained(\"THUDM/chatglm-6b-int4\", trust_remote_code=True).half().cuda()\n",
        "model = model.eval()\n",
        "\n",
        "def postprocess(self, y):\n",
        "    if y is None:\n",
        "        return []\n",
        "    for i, (message, response) in enumerate(y):\n",
        "        y[i] = (\n",
        "            None if message is None else mdtex2html.convert(message),\n",
        "            None if response is None else mdtex2html.convert(response),\n",
        "        )\n",
        "    return y\n",
        "\n",
        "\n",
        "gr.Chatbot.postprocess = postprocess\n",
        "\n",
        "\n",
        "def parse_text(text):\n",
        "  \"\"\"copy from https://github.com/GaiZhenbiao/ChuanhuChatGPT/\"\"\"\n",
        "  lines = text.split(\"\\n\")\n",
        "  lines = [line for line in lines if line != \"\"]\n",
        "  count = 0\n",
        "  for i, line in enumerate(lines):\n",
        "    if \"```\" in line:\n",
        "      count += 1\n",
        "      items = line.split('`')\n",
        "      if count % 2 == 1:\n",
        "        lines[i] = f'<pre><code class=\"language-{items[-1]}\">'\n",
        "      else:\n",
        "        lines[i] = f'<br></code></pre>'\n",
        "    else:\n",
        "      if i > 0:\n",
        "        if count % 2 == 1:\n",
        "          line = line.replace(\"`\", \"\\`\")\n",
        "          line = line.replace(\"<\", \"&lt;\")\n",
        "          line = line.replace(\">\", \"&gt;\")\n",
        "          line = line.replace(\" \", \"&nbsp;\")\n",
        "          line = line.replace(\"*\", \"&ast;\")\n",
        "          line = line.replace(\"_\", \"&lowbar;\")\n",
        "          line = line.replace(\"-\", \"&#45;\")\n",
        "          line = line.replace(\".\", \"&#46;\")\n",
        "          line = line.replace(\"!\", \"&#33;\")\n",
        "          line = line.replace(\"(\", \"&#40;\")\n",
        "          line = line.replace(\")\", \"&#41;\")\n",
        "          line = line.replace(\"$\", \"&#36;\")\n",
        "        lines[i] = \"<br>\"+line\n",
        "  text = \"\".join(lines)\n",
        "  return text\n",
        "\n",
        "\n",
        "def predict(input, chatbot, max_length, top_p, temperature, history):\n",
        "  chatbot.append((parse_text(input), \"\"))\n",
        "  for response, history in model.stream_chat(\n",
        "    tokenizer, input, history, max_length=max_length, top_p=top_p, temperature=temperature):\n",
        "    chatbot[-1] = (parse_text(input), parse_text(response))\n",
        "    yield chatbot, history\n",
        "\n",
        "def reset_user_input():\n",
        "  return gr.update(value='')\n",
        "\n",
        "def reset_state():\n",
        "  return [], []\n",
        "inf('\\u2714 Done','success', '50px')"
      ]
    },
    {
      "cell_type": "code",
      "source": [
        "with gr.Blocks() as demo:\n",
        "  gr.HTML(\"\"\"<h1 align=\"center\">ChatGLM</h1>\"\"\")\n",
        "  chatbot = gr.Chatbot()\n",
        "  with gr.Row():\n",
        "    with gr.Column(scale=4):\n",
        "      with gr.Column(scale=12):\n",
        "        user_input = gr.Textbox(show_label=False, placeholder=\"Input...\", lines=10).style(container=False)\n",
        "      with gr.Column(min_width=32, scale=1):\n",
        "        submitBtn = gr.Button(\"Submit\", variant=\"primary\")\n",
        "    with gr.Column(scale=1):\n",
        "      emptyBtn = gr.Button(\"Clear History\")\n",
        "      max_length = gr.Slider(0, 4096, value=2048, step=1.0, label=\"Maximum length\", interactive=True)\n",
        "      top_p = gr.Slider(0, 1, value=0.7, step=0.01, label=\"Top P\", interactive=True)\n",
        "      temperature = gr.Slider(0, 1, value=0.95, step=0.01, label=\"Temperature\", interactive=True)\n",
        "  history = gr.State([])\n",
        "  submitBtn.click(predict, [user_input, chatbot, max_length, top_p, temperature, history], [chatbot, history], show_progress=True)\n",
        "  submitBtn.click(reset_user_input, [], [user_input])\n",
        "  emptyBtn.click(reset_state, outputs=[chatbot, history], show_progress=True)\n",
        "demo.queue().launch(share=True, inbrowser=False)\n",
        "try:\n",
        "  while 1:\n",
        "    time.sleep(1)\n",
        "except KeyboardInterrupt as e:\n",
        "  pass\n",
        "finally:\n",
        "  demo.close()\n",
        "  torch.cuda.empty_cache()\n",
        "  inf('\\u2714 Close','success', '50px')"
      ],
      "metadata": {
        "id": "ToRD9f7RImq9"
      },
      "execution_count": null,
      "outputs": []
    }
  ]
}